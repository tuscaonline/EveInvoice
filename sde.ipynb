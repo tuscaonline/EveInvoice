{
 "cells": [
  {
   "cell_type": "code",
   "execution_count": 1,
   "id": "63531d82",
   "metadata": {},
   "outputs": [],
   "source": [
    "%load_ext autoreload\n",
    "%autoreload 2"
   ]
  },
  {
   "cell_type": "code",
   "execution_count": 4,
   "id": "2c65ad4c",
   "metadata": {},
   "outputs": [],
   "source": [
    "from eve_invoice.sde import EveBDD\n",
    "from rich import print, inspect"
   ]
  },
  {
   "cell_type": "code",
   "execution_count": 3,
   "id": "b2d2d76e",
   "metadata": {},
   "outputs": [],
   "source": [
    "test = EveBDD()"
   ]
  },
  {
   "cell_type": "code",
   "execution_count": 5,
   "id": "4a854562",
   "metadata": {},
   "outputs": [
    {
     "data": {
      "text/plain": [
       "[EveBillOfMaterialRow(materialTypeID=34, quantity=2800000),\n",
       " EveBillOfMaterialRow(materialTypeID=35, quantity=1000000),\n",
       " EveBillOfMaterialRow(materialTypeID=36, quantity=180000),\n",
       " EveBillOfMaterialRow(materialTypeID=37, quantity=20000),\n",
       " EveBillOfMaterialRow(materialTypeID=38, quantity=8000),\n",
       " EveBillOfMaterialRow(materialTypeID=39, quantity=2000),\n",
       " EveBillOfMaterialRow(materialTypeID=40, quantity=400)]"
      ]
     },
     "execution_count": 5,
     "metadata": {},
     "output_type": "execute_result"
    }
   ],
   "source": [
    "test.fsdTypes['Ferox'].sdeMaterials"
   ]
  }
 ],
 "metadata": {
  "kernelspec": {
   "display_name": "eve-invoice-9dtVCZrY-py3.13",
   "language": "python",
   "name": "python3"
  },
  "language_info": {
   "codemirror_mode": {
    "name": "ipython",
    "version": 3
   },
   "file_extension": ".py",
   "mimetype": "text/x-python",
   "name": "python",
   "nbconvert_exporter": "python",
   "pygments_lexer": "ipython3",
   "version": "3.13.5"
  }
 },
 "nbformat": 4,
 "nbformat_minor": 5
}
